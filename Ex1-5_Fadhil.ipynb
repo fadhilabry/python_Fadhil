{
 "cells": [
  {
   "cell_type": "code",
   "execution_count": null,
   "id": "f8bc8c66-50e3-473f-a0fa-4ffb47f1dd25",
   "metadata": {
    "tags": []
   },
   "outputs": [],
   "source": [
    "\n",
    "print(\"Hello World!\")\n",
    "print(\"Hello Again\")\n",
    "print(\"I like typing this\")\n",
    "print(\"This is fun\")\n",
    "print(\"Yay! printing.\")\n",
    "print(\"I'd much rather you 'not'.\")\n",
    "print('I \"said\" do not touch this')"
   ]
  },
  {
   "cell_type": "code",
   "execution_count": null,
   "id": "a34a1f1b-85e1-40ee-bc56-f9f39e9bea6a",
   "metadata": {},
   "outputs": [],
   "source": []
  },
  {
   "cell_type": "code",
   "execution_count": null,
   "id": "67bc05c9-9b2c-4468-9ff0-78916c60652f",
   "metadata": {},
   "outputs": [],
   "source": [
    "# A comment, this is so you can read your program later.\n",
    "# Anything after the # is ignored by python.\n",
    "\n",
    "print(\"I could have code like this.\") # and the comment after is ignored\n",
    "\n",
    "# You can also use a comment to \"disable\" or comment out code:\n",
    "# print(\"This won't run.\")\n",
    "\n",
    "print(\"This will run.\")"
   ]
  }
 ],
 "metadata": {
  "kernelspec": {
   "display_name": "Python 3 (ipykernel)",
   "language": "python",
   "name": "python3"
  },
  "language_info": {
   "codemirror_mode": {
    "name": "ipython",
    "version": 3
   },
   "file_extension": ".py",
   "mimetype": "text/x-python",
   "name": "python",
   "nbconvert_exporter": "python",
   "pygments_lexer": "ipython3",
   "version": "3.8.0"
  }
 },
 "nbformat": 4,
 "nbformat_minor": 5
}
