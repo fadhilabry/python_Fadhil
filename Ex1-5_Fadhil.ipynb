{
 "cells": [
  {
   "cell_type": "code",
   "execution_count": 1,
   "id": "f8bc8c66-50e3-473f-a0fa-4ffb47f1dd25",
   "metadata": {
    "tags": []
   },
   "outputs": [
    {
     "name": "stdout",
     "output_type": "stream",
     "text": [
      "Hello World!\n",
      "Hello Again\n",
      "I like typing this\n",
      "This is fun\n",
      "Yay! printing.\n",
      "I'd much rather you 'not'.\n",
      "I \"said\" do not touch this\n"
     ]
    }
   ],
   "source": [
    "#ex1\n",
    "print(\"Hello World!\")\n",
    "print(\"Hello Again\")\n",
    "print(\"I like typing this\")\n",
    "print(\"This is fun\")\n",
    "print(\"Yay! printing.\")\n",
    "print(\"I'd much rather you 'not'.\")\n",
    "print('I \"said\" do not touch this')"
   ]
  },
  {
   "cell_type": "code",
   "execution_count": 6,
   "id": "a34a1f1b-85e1-40ee-bc56-f9f39e9bea6a",
   "metadata": {},
   "outputs": [
    {
     "name": "stdout",
     "output_type": "stream",
     "text": [
      "Hello World!\n"
     ]
    }
   ],
   "source": [
    "#study drill ex1 (1)\n",
    "\n",
    "print(\"Hello World!\")"
   ]
  },
  {
   "cell_type": "code",
   "execution_count": 7,
   "id": "3d36cb03-d9c3-4d0a-9f08-e758f28b2af7",
   "metadata": {},
   "outputs": [
    {
     "name": "stdout",
     "output_type": "stream",
     "text": [
      "wish me luck\n",
      "give me strength\n"
     ]
    }
   ],
   "source": [
    "#study drill ex1 (2)\n",
    "\n",
    "print(\"wish me luck\")\n",
    "print(\"give me strength\")\n",
    "#print(\"give me strength\")"
   ]
  },
  {
   "cell_type": "code",
   "execution_count": 3,
   "id": "67bc05c9-9b2c-4468-9ff0-78916c60652f",
   "metadata": {},
   "outputs": [
    {
     "name": "stdout",
     "output_type": "stream",
     "text": [
      "I could have code like this.\n",
      "This will run.\n"
     ]
    }
   ],
   "source": [
    "#ex2\n",
    "# A comment, this is so you can read your program later.\n",
    "# Anything after the # is ignored by python.\n",
    "\n",
    "print(\"I could have code like this.\") # and the comment after is ignored\n",
    "\n",
    "# You can also use a comment to \"disable\" or comment out code:\n",
    "# print(\"This won't run.\")\n",
    "\n",
    "print(\"This will run.\")"
   ]
  },
  {
   "cell_type": "code",
   "execution_count": 4,
   "id": "cda4b33c-b2e9-4826-a9de-0931dffdac65",
   "metadata": {},
   "outputs": [],
   "source": [
    "#study drill ex2\n",
    "#hanya disuruh memahami"
   ]
  },
  {
   "cell_type": "code",
   "execution_count": 5,
   "id": "58890ed9-07bc-454a-9afe-6ec09bb1e467",
   "metadata": {},
   "outputs": [
    {
     "name": "stdout",
     "output_type": "stream",
     "text": [
      "I will now count my chickens:\n",
      "Hens 30.0\n",
      "Roosters 97\n",
      "Now I will count the eggs:\n",
      "6.75\n",
      "Is it true that 3 + 2 < 5 - 7?\n",
      "False\n",
      "What is 3 + 2? 5\n",
      "What is 5 - 7? -2\n",
      "Oh, that's why it's False.\n",
      "How about some more.\n",
      "Is it greater? True\n",
      "Is it greater or equal? True\n",
      "Is it less or equal? False\n"
     ]
    }
   ],
   "source": [
    "#ex3\n",
    "print(\"I will now count my chickens:\")\n",
    "\n",
    "print(\"Hens\", 25 + 30 / 6)\n",
    "print(\"Roosters\", 100 - 25 * 3 % 4)\n",
    "\n",
    "print(\"Now I will count the eggs:\")\n",
    "\n",
    "print(3 + 2 + 1 - 5 + 4 % 2 - 1 / 4 + 6)\n",
    "\n",
    "print(\"Is it true that 3 + 2 < 5 - 7?\")\n",
    "\n",
    "print(3 + 2 < 5 - 7)\n",
    "\n",
    "print(\"What is 3 + 2?\", 3 + 2)\n",
    "print(\"What is 5 - 7?\", 5 - 7)\n",
    "\n",
    "print(\"Oh, that's why it's False.\")\n",
    "\n",
    "print(\"How about some more.\")\n",
    "\n",
    "print(\"Is it greater?\", 5 > -2)\n",
    "print(\"Is it greater or equal?\", 5 >= -2)\n",
    "print(\"Is it less or equal?\", 5 <= -2)"
   ]
  },
  {
   "cell_type": "code",
   "execution_count": 8,
   "id": "e1a6171e-80e2-4ce0-a45e-2edf1ffe2507",
   "metadata": {},
   "outputs": [
    {
     "name": "stdout",
     "output_type": "stream",
     "text": [
      "I will now count my chickens:\n",
      "Hens 30.0\n",
      "Roosters 97\n",
      "Now I will count the eggs:\n",
      "6.75\n",
      "Is it true that 3 + 2 < 5 - 7?\n",
      "False\n",
      "What is 3 + 2? 5\n",
      "What is 5 - 7? -2\n",
      "Oh, that's why it's False.\n",
      "How about some more.\n",
      "Is it greater? True\n",
      "Is it greater or equal? True\n",
      "Is it less or equal? False\n"
     ]
    }
   ],
   "source": [
    "#study drill ex3 (1)\n",
    "\n",
    "print(\"I will now count my chickens:\")\n",
    "#the sentence will be printed\n",
    "\n",
    "print(\"Hens\", 25 + 30 / 6)\n",
    "print(\"Roosters\", 100 - 25 * 3 % 4)\n",
    "#the printed word will be followed by the number of each items that calculated\n",
    "\n",
    "print(\"Now I will count the eggs:\")\n",
    "#the sentence will be printed\n",
    "\n",
    "print(3 + 2 + 1 - 5 + 4 % 2 - 1 / 4 + 6)\n",
    "#the result of the operation will be printed\n",
    "\n",
    "print(\"Is it true that 3 + 2 < 5 - 7?\")\n",
    "#the sentence will be printed including the math operation because it still inside the \" \"\n",
    "\n",
    "print(3 + 2 < 5 - 7)\n",
    "# 5 is greater than -2, so the result should be FALSE\n",
    "\n",
    "print(\"What is 3 + 2?\", 3 + 2)\n",
    "print(\"What is 5 - 7?\", 5 - 7)\n",
    "#the printed word will be followed by the number of each items that calculated\n",
    "\n",
    "print(\"Oh, that's why it's False.\")\n",
    "#the sentence will be printed\n",
    "\n",
    "print(\"How about some more.\")\n",
    "#the sentence will be printed\n",
    "\n",
    "print(\"Is it greater?\", 5 > -2)\n",
    "print(\"Is it greater or equal?\", 5 >= -2)\n",
    "print(\"Is it less or equal?\", 5 <= -2)\n",
    "#the operation involved with sign >,<,= will be printed as \"true or false\" depending on each mathematical operation"
   ]
  },
  {
   "cell_type": "code",
   "execution_count": 9,
   "id": "66fdf46e-b01e-449f-9b2c-14b638790606",
   "metadata": {},
   "outputs": [
    {
     "name": "stdout",
     "output_type": "stream",
     "text": [
      "I will now count my chickens:\n",
      "Hens 30.0\n",
      "Roosters 97.0\n",
      "Now I will count the eggs:\n",
      "6.75\n",
      "Is it true that 3 + 2 < 5 - 7?\n",
      "False\n",
      "What is 3 + 2? 5.0\n",
      "What is 5 - 7? -2.0\n",
      "Oh, that's why it's False.\n",
      "How about some more.\n",
      "Is it greater? True\n",
      "Is it greater or equal? True\n",
      "Is it less or equal? False\n"
     ]
    }
   ],
   "source": [
    "#study drill ex3 (2)\n",
    "\n",
    "print(\"I will now count my chickens:\")\n",
    "\n",
    "print(\"Hens\", 25.0 + 30.0 / 6.0)\n",
    "print(\"Roosters\", 100.0 - 25.0 * 3.0 % 4.0)\n",
    "\n",
    "print(\"Now I will count the eggs:\")\n",
    "\n",
    "print(3.0 + 2.0 + 1.0 - 5.0 + 4.0 % 2.0 - 1.0 / 4.0 + 6.0)\n",
    "\n",
    "print(\"Is it true that 3 + 2 < 5 - 7?\")\n",
    "\n",
    "print(3.0 + 2.0 < 5.0 - 7.0)\n",
    "\n",
    "print(\"What is 3 + 2?\", 3.0 + 2.0)\n",
    "print(\"What is 5 - 7?\", 5.0 - 7.0)\n",
    "\n",
    "print(\"Oh, that's why it's False.\")\n",
    "\n",
    "print(\"How about some more.\")\n",
    "\n",
    "print(\"Is it greater?\", 5.0 > -2.0)\n",
    "print(\"Is it greater or equal?\", 5.0 >= -2.0)\n",
    "print(\"Is it less or equal?\", 5.0 <= -2.0)"
   ]
  },
  {
   "cell_type": "code",
   "execution_count": 10,
   "id": "0739e1fd-fe3e-46ee-b91d-0ca5c372a1d8",
   "metadata": {},
   "outputs": [
    {
     "data": {
      "text/plain": [
       "33.333333333333336"
      ]
     },
     "execution_count": 10,
     "metadata": {},
     "output_type": "execute_result"
    }
   ],
   "source": [
    "#study drill ex3 (3)\n",
    "100 / 3"
   ]
  },
  {
   "cell_type": "code",
   "execution_count": 11,
   "id": "f07e8576-a933-4e25-8f30-ced2958b25ca",
   "metadata": {},
   "outputs": [
    {
     "name": "stdout",
     "output_type": "stream",
     "text": [
      "There are 100 cars available.\n",
      "There are only 30 drivers available.\n",
      "There will be 70 empty cars today.\n",
      "We can transport 120 people today.\n",
      "We have 90 to carpool today.\n",
      "We need to put about 3.0 in each car.\n"
     ]
    }
   ],
   "source": [
    "#ex4\n",
    "\n",
    "cars = 100\n",
    "space_in_a_car = 4\n",
    "drivers = 30\n",
    "passengers = 90\n",
    "cars_not_driven = cars - drivers\n",
    "cars_driven = drivers\n",
    "carpool_capacity = cars_driven * space_in_a_car\n",
    "average_passengers_per_car = passengers / cars_driven\n",
    "\n",
    "\n",
    "print(\"There are\", cars, \"cars available.\")\n",
    "print(\"There are only\", drivers, \"drivers available.\")\n",
    "print(\"There will be\", cars_not_driven, \"empty cars today.\")\n",
    "print(\"We can transport\", carpool_capacity, \"people today.\")\n",
    "print(\"We have\", passengers, \"to carpool today.\")\n",
    "print(\"We need to put about\", average_passengers_per_car,\"in each car.\")\n"
   ]
  },
  {
   "cell_type": "code",
   "execution_count": 12,
   "id": "ddd5ba4b-811a-4703-a1e7-1fa093527c93",
   "metadata": {},
   "outputs": [
    {
     "name": "stdout",
     "output_type": "stream",
     "text": [
      "There are 100 cars available.\n",
      "There are only 30 drivers available.\n",
      "There will be 70 empty cars today.\n",
      "We can transport 120 people today.\n",
      "We have 90 to carpool today.\n",
      "We need to put about 3.0 in each car.\n",
      "jumlah x adalah 70\n",
      "jumlah y adalah 71\n"
     ]
    }
   ],
   "source": [
    "#study drills ex4\n",
    "\n",
    "#all defined variables written here\n",
    "cars = 100\n",
    "space_in_a_car = 4\n",
    "drivers = 30\n",
    "passengers = 90\n",
    "#mathematical operation using all the defined variables above\n",
    "cars_not_driven = cars - drivers\n",
    "cars_driven = drivers\n",
    "carpool_capacity = cars_driven * space_in_a_car\n",
    "average_passengers_per_car = passengers / cars_driven\n",
    "#make another variable\n",
    "x = cars - drivers\n",
    "y = x + 1\n",
    "\n",
    "\n",
    "#printed all result of variables and mathematical operation above.\n",
    "print(\"There are\", cars, \"cars available.\")\n",
    "print(\"There are only\", drivers, \"drivers available.\")\n",
    "print(\"There will be\", cars_not_driven, \"empty cars today.\")\n",
    "print(\"We can transport\", carpool_capacity, \"people today.\")\n",
    "print(\"We have\", passengers, \"to carpool today.\")\n",
    "print(\"We need to put about\", average_passengers_per_car,\"in each car.\")\n",
    "print(\"jumlah x adalah\", x)\n",
    "print(\"jumlah y adalah\", y)\n"
   ]
  },
  {
   "cell_type": "code",
   "execution_count": 14,
   "id": "47c09649-ca9d-4193-a7ee-27fab8bcbf98",
   "metadata": {},
   "outputs": [
    {
     "name": "stdout",
     "output_type": "stream",
     "text": [
      "Let's talk about Zed A. Shaw.\n",
      "He's 74 inches tall.\n",
      "He's 180 pounds heavy.\n",
      "Actually that's not too heavy.\n",
      "He's got Blue eyes and Brown hair.\n",
      "His teeth are usually White depending on the coffee.\n",
      "If I add 35, 74, and 180 I get 289.\n"
     ]
    }
   ],
   "source": [
    "#Ex5\n",
    "\n",
    "my_name = 'Zed A. Shaw'\n",
    "my_age = 35 # not a lie\n",
    "my_height = 74 # inches\n",
    "my_weight = 180 # lbs\n",
    "my_eyes = 'Blue'\n",
    "my_teeth = 'White'\n",
    "my_hair = 'Brown'\n",
    "\n",
    "print(f\"Let's talk about {my_name}.\")\n",
    "print(f\"He's {my_height} inches tall.\")\n",
    "print(f\"He's {my_weight} pounds heavy.\")\n",
    "print(\"Actually that's not too heavy.\")\n",
    "print(f\"He's got {my_eyes} eyes and {my_hair} hair.\")\n",
    "print(f\"His teeth are usually {my_teeth} depending on the coffee.\")\n",
    "\n",
    "# this line is tricky, try to get it exactly right\n",
    "total = my_age + my_height + my_weight\n",
    "print(f\"If I add {my_age}, {my_height}, and {my_weight} I get {total}.\")\n"
   ]
  },
  {
   "cell_type": "code",
   "execution_count": 15,
   "id": "7dabb813-4360-418b-b078-b518bda52bf5",
   "metadata": {},
   "outputs": [
    {
     "name": "stdout",
     "output_type": "stream",
     "text": [
      "Let's talk about Zed A. Shaw.\n",
      "He's 74 inches tall.\n",
      "He's 180 pounds heavy.\n",
      "Actually that's not too heavy.\n",
      "He's got Blue eyes and Brown hair.\n",
      "His teeth are usually White depending on the coffee.\n",
      "If I add 35, 74, and 180 I get 289.\n",
      "He's 187.96 cm tall.\n",
      "He's 81.64656 kg heavy.\n"
     ]
    }
   ],
   "source": [
    "#study drill ex5\n",
    "\n",
    "name = 'Zed A. Shaw'\n",
    "age = 35 # not a lie\n",
    "weight = 180 # lbs\n",
    "height = 74 #inches\n",
    "eyes = 'Blue'\n",
    "teeth = 'White'\n",
    "hair = 'Brown'\n",
    "\n",
    "print(f\"Let's talk about {name}.\")\n",
    "print(f\"He's {height} inches tall.\")\n",
    "print(f\"He's {weight} pounds heavy.\")\n",
    "print(\"Actually that's not too heavy.\")\n",
    "print(f\"He's got {eyes} eyes and {hair} hair.\")\n",
    "print(f\"His teeth are usually {teeth} depending on the coffee.\")\n",
    "\n",
    " # this line is tricky, try to get it exactly right\n",
    "total = age + height + weight\n",
    "print(f\"If I add {age}, {height}, and {weight} I get {total}.\")\n",
    "\n",
    "\n",
    "height_in_cm = height * 2.54\n",
    "weight_in_kg = weight * 0.453592\n",
    "\n",
    "print(f\"He's {height_in_cm} cm tall.\")\n",
    "print(f\"He's {weight_in_kg} kg heavy.\")"
   ]
  },
  {
   "cell_type": "code",
   "execution_count": null,
   "id": "c756bec9-3db7-40a0-b0b7-28b86dd5dfde",
   "metadata": {},
   "outputs": [],
   "source": []
  }
 ],
 "metadata": {
  "kernelspec": {
   "display_name": "Python 3 (ipykernel)",
   "language": "python",
   "name": "python3"
  },
  "language_info": {
   "codemirror_mode": {
    "name": "ipython",
    "version": 3
   },
   "file_extension": ".py",
   "mimetype": "text/x-python",
   "name": "python",
   "nbconvert_exporter": "python",
   "pygments_lexer": "ipython3",
   "version": "3.8.0"
  }
 },
 "nbformat": 4,
 "nbformat_minor": 5
}
