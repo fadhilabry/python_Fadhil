{
 "cells": [
  {
   "cell_type": "code",
   "execution_count": 1,
   "id": "508ea942-4d2c-4824-8898-03524015236f",
   "metadata": {},
   "outputs": [
    {
     "name": "stdout",
     "output_type": "stream",
     "text": [
      "aing lieur\n"
     ]
    }
   ],
   "source": [
    "print(\"aing lieur\")"
   ]
  },
  {
   "cell_type": "code",
   "execution_count": null,
   "id": "e2ae30eb-3f05-47ac-8589-c5c6906dac78",
   "metadata": {},
   "outputs": [],
   "source": []
  }
 ],
 "metadata": {
  "kernelspec": {
   "display_name": "Python 3 (ipykernel)",
   "language": "python",
   "name": "python3"
  },
  "language_info": {
   "codemirror_mode": {
    "name": "ipython",
    "version": 3
   },
   "file_extension": ".py",
   "mimetype": "text/x-python",
   "name": "python",
   "nbconvert_exporter": "python",
   "pygments_lexer": "ipython3",
   "version": "3.8.0"
  }
 },
 "nbformat": 4,
 "nbformat_minor": 5
}
